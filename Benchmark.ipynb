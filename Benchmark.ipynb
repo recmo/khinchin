{
 "cells": [
  {
   "cell_type": "code",
   "execution_count": null,
   "id": "2a94dc13-9f80-426c-8324-b40c5d058c63",
   "metadata": {},
   "outputs": [],
   "source": [
    "%matplotlib inline\n",
    "import numpy as np\n",
    "import matplotlib as mpl\n",
    "import matplotlib.pyplot as plt\n",
    "import pandas as pd\n",
    "\n",
    "# Defaults more suitable for 4K monitors\n",
    "mpl.rcParams[\"figure.dpi\"] = 120\n",
    "mpl.rcParams[\"figure.figsize\"] = [12.0, 8.0]\n",
    "\n",
    "# Change font to match Latex\n",
    "mpl.rcParams['mathtext.fontset'] = 'cm'\n",
    "mpl.rcParams['font.family'] = 'cm'\n",
    "\n",
    "# Export settings\n",
    "mpl.rcParams[\"savefig.bbox\"] = 'tight'\n",
    "mpl.rcParams[\"savefig.dpi\"] = 300\n",
    "mpl.rcParams[\"savefig.facecolor\"] = 'white'"
   ]
  },
  {
   "cell_type": "code",
   "execution_count": null,
   "id": "53b8a4df-85be-4b4c-b0da-b1a679f67109",
   "metadata": {},
   "outputs": [],
   "source": [
    "b34k = pd.read_csv('34k-bench.txt', sep=' ', names=['prec', 'n', 'time'])\n",
    "b34k"
   ]
  },
  {
   "cell_type": "code",
   "execution_count": null,
   "id": "951cc8f8-3d26-4101-ae00-3c2148feb4ca",
   "metadata": {},
   "outputs": [],
   "source": [
    "b34kboost = pd.read_csv('bench-34k-boost.txt', sep=' ', names=['prec', 'n', 'time', 'error'])\n",
    "b34kboost"
   ]
  },
  {
   "cell_type": "code",
   "execution_count": null,
   "id": "6dda7830-ce90-4e36-ad75-10e7cb6f6732",
   "metadata": {},
   "outputs": [],
   "source": [
    "plt.plot(b34k.n, b34k.time, 'red')\n",
    "plt.plot(b34kboost.n, b34kboost.time, 'blue')\n",
    "plt.yscale('log')\n",
    "plt.ylim([0.001, 1000])\n",
    "\n",
    "plt.savefig('bench-34k.png')"
   ]
  },
  {
   "cell_type": "code",
   "execution_count": null,
   "id": "6adca6c2-db87-4d9f-bd6f-7dddfb678031",
   "metadata": {},
   "outputs": [],
   "source": []
  },
  {
   "cell_type": "code",
   "execution_count": null,
   "id": "817cec3d-183c-4f6c-a1c6-5aab24fffa67",
   "metadata": {},
   "outputs": [],
   "source": []
  }
 ],
 "metadata": {
  "kernelspec": {
   "display_name": "Python 3 (ipykernel)",
   "language": "python",
   "name": "python3"
  },
  "language_info": {
   "codemirror_mode": {
    "name": "ipython",
    "version": 3
   },
   "file_extension": ".py",
   "mimetype": "text/x-python",
   "name": "python",
   "nbconvert_exporter": "python",
   "pygments_lexer": "ipython3",
   "version": "3.9.13"
  }
 },
 "nbformat": 4,
 "nbformat_minor": 5
}
