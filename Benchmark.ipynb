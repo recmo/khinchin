{
 "cells": [
  {
   "cell_type": "code",
   "execution_count": null,
   "id": "2a94dc13-9f80-426c-8324-b40c5d058c63",
   "metadata": {},
   "outputs": [],
   "source": [
    "%matplotlib inline\n",
    "import numpy as np\n",
    "import matplotlib as mpl\n",
    "import matplotlib.pyplot as plt\n",
    "import pandas as pd\n",
    "\n",
    "# Defaults more suitable for 4K monitors\n",
    "mpl.rcParams[\"figure.dpi\"] = 120\n",
    "mpl.rcParams[\"figure.figsize\"] = [12.0, 8.0]\n",
    "\n",
    "# Change font to match Latex\n",
    "mpl.rcParams['mathtext.fontset'] = 'cm'\n",
    "mpl.rcParams['font.family'] = 'cm'\n",
    "\n",
    "# Export settings\n",
    "mpl.rcParams[\"savefig.bbox\"] = 'tight'\n",
    "mpl.rcParams[\"savefig.dpi\"] = 300\n",
    "mpl.rcParams[\"savefig.facecolor\"] = 'white'"
   ]
  },
  {
   "cell_type": "code",
   "execution_count": null,
   "id": "53b8a4df-85be-4b4c-b0da-b1a679f67109",
   "metadata": {},
   "outputs": [],
   "source": [
    "b34k = pd.read_csv('bench-34k.txt', sep=' ', names=['prec', 'n', 'time'])\n",
    "b34k"
   ]
  },
  {
   "cell_type": "code",
   "execution_count": null,
   "id": "951cc8f8-3d26-4101-ae00-3c2148feb4ca",
   "metadata": {},
   "outputs": [],
   "source": [
    "b34kboost = pd.read_csv('bench-34k-boost.txt', sep=' ', names=['prec', 'n', 'time', 'error'])\n",
    "b34kboost"
   ]
  },
  {
   "cell_type": "code",
   "execution_count": null,
   "id": "cd25ea05-76e7-4e57-abd7-93804c2323fa",
   "metadata": {},
   "outputs": [],
   "source": [
    "b34ksum = pd.read_csv('bench-34k-sum.txt', sep=' ', names=['prec', 'n', 'time'])\n",
    "b34ksum"
   ]
  },
  {
   "cell_type": "code",
   "execution_count": null,
   "id": "6e60c96d-46cd-4b6b-8725-acae433447e5",
   "metadata": {},
   "outputs": [],
   "source": [
    "b34krelease = pd.read_csv('bench-34k-release.txt', sep=' ', names=['prec', 'n', 'time', 'error'])\n",
    "b34krelease"
   ]
  },
  {
   "cell_type": "code",
   "execution_count": null,
   "id": "6dda7830-ce90-4e36-ad75-10e7cb6f6732",
   "metadata": {},
   "outputs": [],
   "source": [
    "plt.plot(b34k.n, b34k.time, 'red', linewidth=0.2)\n",
    "plt.plot(b34kboost.n, b34kboost.time, 'blue', linewidth=0.1)\n",
    "plt.plot(b34ksum.n, b34ksum.time, 'orange', linewidth=0.2)\n",
    "plt.plot(b34krelease.n, b34krelease.time, 'black', linewidth=0.2)\n",
    "plt.yscale('log')\n",
    "plt.ylim([0.001, 1000])\n",
    "\n",
    "plt.savefig('bench-34k.png')"
   ]
  },
  {
   "cell_type": "code",
   "execution_count": null,
   "id": "6adca6c2-db87-4d9f-bd6f-7dddfb678031",
   "metadata": {},
   "outputs": [],
   "source": [
    "b340krelease = pd.read_csv('bench-340k-release.txt', sep=' ', names=['prec', 'n', 'time', 'error'])\n",
    "b340krelease"
   ]
  },
  {
   "cell_type": "code",
   "execution_count": null,
   "id": "817cec3d-183c-4f6c-a1c6-5aab24fffa67",
   "metadata": {},
   "outputs": [],
   "source": [
    "bench = pd.read_csv('bench-k0.txt', sep=' ')\n",
    "bench"
   ]
  },
  {
   "cell_type": "code",
   "execution_count": null,
   "id": "bac6ff08-825f-4b59-bd6e-3851ad29a6ea",
   "metadata": {},
   "outputs": [],
   "source": []
  },
  {
   "cell_type": "code",
   "execution_count": null,
   "id": "de3e65ce-4e8d-4df0-83a8-49d270912404",
   "metadata": {},
   "outputs": [],
   "source": [
    "error = bench.target_bits - bench.actual_bits\n",
    "plt.plot(bench.target_bits, error, 'black', linewidth=2)\n",
    "plt.title('Accuracy')\n",
    "plt.xlabel('target_bits')\n",
    "plt.ylabel('incorrect bits')\n",
    "plt.ylim([0, 1.2 * max(error)])\n",
    "plt.savefig('accuracy.png')"
   ]
  },
  {
   "cell_type": "code",
   "execution_count": null,
   "id": "313dcf27-3844-455a-acf8-99579d772b5d",
   "metadata": {},
   "outputs": [],
   "source": [
    "bench.total_time.values"
   ]
  },
  {
   "cell_type": "code",
   "execution_count": null,
   "id": "14b93865-9fcf-46d3-a34e-36eb6b3e0146",
   "metadata": {},
   "outputs": [],
   "source": []
  },
  {
   "cell_type": "code",
   "execution_count": null,
   "id": "48553ea0-2d4e-4383-b171-58a4c9b7d600",
   "metadata": {},
   "outputs": [],
   "source": [
    "other = bench.total_time - bench.zeta_time\n",
    "\n",
    "plt.stackplot(bench.target_bits / 1000, np.array([\n",
    "    bench.total_time - bench.zeta_time,\n",
    "    bench.zeta_time - bench.divsum_time - bench.series_time - bench.table_time,\n",
    "    bench.series_time,\n",
    "    bench.divsum_time,\n",
    "    bench.table_time - bench.update_time - bench.sum_time,\n",
    "    bench.update_time,\n",
    "    bench.sum_time\n",
    "]) / bench.total_time.values, labels=['other_kinchin', 'other_zeta', 'zeta_series', 'divsum', 'other_table', 'table_update', 'table_sum'])\n",
    "# plt.plot(bench.target_bits / 1000, bench.total_time / 1000)\n",
    "plt.xlabel('target bits (kbits)')\n",
    "plt.ylabel('time (s)')\n",
    "plt.legend()\n",
    "plt.title('Runtime')\n",
    "plt.savefig('runtime.png')"
   ]
  },
  {
   "cell_type": "code",
   "execution_count": null,
   "id": "3bd317c4-fa07-41ae-a983-7577b87d9e52",
   "metadata": {},
   "outputs": [],
   "source": [
    "plt.plot(bench.target_bits, bench.total_time / bench.target_bits, 'black', linewidth=2)\n",
    "plt.xlabel('target bits (kbits)')\n",
    "plt.ylabel('time per bit (ms)')\n",
    "plt.title('Time per bit')\n",
    "plt.savefig('bit-time.png')"
   ]
  },
  {
   "cell_type": "code",
   "execution_count": null,
   "id": "f8c78168-132c-46b0-a2a1-8e80da3382ee",
   "metadata": {},
   "outputs": [],
   "source": []
  }
 ],
 "metadata": {
  "kernelspec": {
   "display_name": "Python 3 (ipykernel)",
   "language": "python",
   "name": "python3"
  },
  "language_info": {
   "codemirror_mode": {
    "name": "ipython",
    "version": 3
   },
   "file_extension": ".py",
   "mimetype": "text/x-python",
   "name": "python",
   "nbconvert_exporter": "python",
   "pygments_lexer": "ipython3",
   "version": "3.9.13"
  }
 },
 "nbformat": 4,
 "nbformat_minor": 5
}
